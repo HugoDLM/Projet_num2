{
 "cells": [
  {
   "cell_type": "markdown",
   "metadata": {},
   "source": [
    "### Question 3 ###\n"
   ]
  },
  {
   "cell_type": "markdown",
   "metadata": {},
   "source": [
    "On montre seulement que les solutions initialisées en $\\mathbb{R}^{+*}$*$\\mathbb{R}^{+*}$ ne peuvent jamais s'annuler. Par continuité des solutions, on en déduire qu'elles restent dans $\\mathbb{R}^{+*}$*$\\mathbb{R}^{+*}$  \n",
    "et $x_0$>0 et $y_0$>0  \n",
    "On considère le problème de Cauchy suivant:\n",
    "\\begin{cases} \\dot x=f(x(t)) \\\\ x(t_0)=(x_0,y_0) \\end{cases}\n",
    "Supposons par l'absurde qu'il existe $t_1 \\in \\mathbb{R}$ tel que $x(t_1)=0$ ou $y(t_1)=0$  \n",
    "Premier cas: $x(t_1)=0=y(t_1)$\n",
    "On considère le problème de Cauchy:  \n",
    "\\begin{cases} \\dot z=f(z(t)) \\\\ z(t_1)=(0,0) \\end{cases}\n",
    "z=0 est alors une solution évidente du système.  \n",
    "On a alors $z(t_1)=x(t_1)$ donc comme z et x vérifient le même problème de Cauchy,  \n",
    "Par théorème de Cauchy-Lipschitz, $\\forall t \\in \\mathbb{R} z(t)=x(t)=0$  \n",
    "Absurde car $x_0$>0 et $y_0$>0  \n",
    "Deuxième cas: $x(t_1)=0$ et $y(t_1)=y_1>0$  \n",
    "On considère le problème de Cauchy:  \n",
    "\\begin{cases} \\dot z=f(z(t)) \\\\ z(t_1)=(0,y_1) \\end{cases}\n",
    "Une solution évidente du système est alors $z(t)=(0,y_1e^{-\\gamma(t-t_1)})$  \n",
    "Ainsi $z(t_1)=(0,y_1)=x(t_1)$ donc comme z et x vérifient le même problème de Cauchy,  \n",
    "Par théorème de Cauchy-Lipschitz, $\\forall t \\in \\mathbb{R}$ $z(t)=x(t)$   \n",
    "Absurde car $x_0>0$  \n",
    "Troisième cas: $x(t_1)=x_1>0$ et $y(t_1)=0$  \n",
    "On considère le problème de Cauchy:  \n",
    "\\begin{cases} \\dot z=f(z(t)) \\\\ z(t_1)=(x_1,0) \\end{cases}\n",
    "Une solution évidente du système est alors $z(t)=(x_1e^{\\alpha(t-t_1)},0)$  \n",
    "Ainsi $z(t_1)=(x_1,0)=x(t_1)$ donc comme z et x vérifient le même problème de Cauchy,\n",
    "Par théorème de Cauchy-Lipschitz, $\\forall t \\in \\mathbb{R}$ $z(t)=x(t)$   \n",
    "Absurde car $y_0>0$"
   ]
  }
 ],
 "metadata": {
  "kernelspec": {
   "display_name": "Python 3",
   "language": "python",
   "name": "python3"
  },
  "language_info": {
   "codemirror_mode": {
    "name": "ipython",
    "version": 3
   },
   "file_extension": ".py",
   "mimetype": "text/x-python",
   "name": "python",
   "nbconvert_exporter": "python",
   "pygments_lexer": "ipython3",
   "version": "3.8.3"
  }
 },
 "nbformat": 4,
 "nbformat_minor": 4
}
